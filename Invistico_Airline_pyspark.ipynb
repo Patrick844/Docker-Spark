{
 "cells": [
  {
   "cell_type": "markdown",
   "id": "36534f25-baf6-4f75-8376-1f0d088e7af4",
   "metadata": {},
   "source": [
    "# Imports"
   ]
  },
  {
   "cell_type": "code",
   "execution_count": 1,
   "id": "ebb8534b-3805-43a2-9472-90b569897c9f",
   "metadata": {
    "pycharm": {
     "name": "#%%\n"
    }
   },
   "outputs": [],
   "source": [
    "from pyspark.sql import SparkSession\n",
    "from pyspark.sql.functions import *\n",
    "\n",
    "import matplotlib.pyplot as plt\n",
    "import seaborn as sns\n",
    "\n",
    "from scipy import stats\n",
    "from scipy.stats import norm, skew \n",
    "\n",
    "from pyspark.ml import Pipeline\n",
    "from pyspark.ml.feature import StringIndexer, VectorAssembler,MinMaxScaler\n",
    "from pyspark.ml.regression import LinearRegression\n",
    "from pyspark.ml.classification import LogisticRegression"
   ]
  },
  {
   "cell_type": "markdown",
   "id": "40b5dfb8-32d5-47d9-878e-20aad32767df",
   "metadata": {},
   "source": [
    "# Read Data"
   ]
  },
  {
   "cell_type": "code",
   "execution_count": 2,
   "id": "6253d572-5cb7-4612-a83d-c45d63b66eec",
   "metadata": {
    "pycharm": {
     "name": "#%%\n"
    }
   },
   "outputs": [
    {
     "name": "stdout",
     "output_type": "stream",
     "text": [
      "+------------+------+--------------+---+--------------------------+------------------------+\n",
      "|satisfaction|Gender| Customer Type|Age|Departure Delay in Minutes|Arrival Delay in Minutes|\n",
      "+------------+------+--------------+---+--------------------------+------------------------+\n",
      "|   satisfied|Female|Loyal Customer| 65|                         0|                       0|\n",
      "|   satisfied|  Male|Loyal Customer| 47|                       310|                     305|\n",
      "|   satisfied|Female|Loyal Customer| 15|                         0|                       0|\n",
      "|   satisfied|Female|Loyal Customer| 60|                         0|                       0|\n",
      "|   satisfied|Female|Loyal Customer| 70|                         0|                       0|\n",
      "+------------+------+--------------+---+--------------------------+------------------------+\n",
      "only showing top 5 rows\n",
      "\n"
     ]
    }
   ],
   "source": [
    "\n",
    "spark = SparkSession.builder.appName(\"Invistico_Airline\").getOrCreate()\n",
    "df = spark.read.csv('data/Invistico_Airline.csv',inferSchema=True,header=True)\n",
    "# Selection of columns (to have a more clear view of data frame)\n",
    "df.select('satisfaction',\n",
    " 'Gender',\n",
    " 'Customer Type',\n",
    " 'Age',\n",
    " 'Departure Delay in Minutes',\n",
    " 'Arrival Delay in Minutes').show(5)"
   ]
  },
  {
   "cell_type": "code",
   "execution_count": 3,
   "id": "0db80388-0623-42d4-975f-b737e2fb253d",
   "metadata": {},
   "outputs": [
    {
     "name": "stdout",
     "output_type": "stream",
     "text": [
      "root\n",
      " |-- satisfaction: string (nullable = true)\n",
      " |-- Gender: string (nullable = true)\n",
      " |-- Customer Type: string (nullable = true)\n",
      " |-- Age: integer (nullable = true)\n",
      " |-- Type of Travel: string (nullable = true)\n",
      " |-- Class: string (nullable = true)\n",
      " |-- Flight Distance: integer (nullable = true)\n",
      " |-- Seat comfort: integer (nullable = true)\n",
      " |-- Departure/Arrival time convenient: integer (nullable = true)\n",
      " |-- Food and drink: integer (nullable = true)\n",
      " |-- Gate location: integer (nullable = true)\n",
      " |-- Inflight wifi service: integer (nullable = true)\n",
      " |-- Inflight entertainment: integer (nullable = true)\n",
      " |-- Online support: integer (nullable = true)\n",
      " |-- Ease of Online booking: integer (nullable = true)\n",
      " |-- On-board service: integer (nullable = true)\n",
      " |-- Leg room service: integer (nullable = true)\n",
      " |-- Baggage handling: integer (nullable = true)\n",
      " |-- Checkin service: integer (nullable = true)\n",
      " |-- Cleanliness: integer (nullable = true)\n",
      " |-- Online boarding: integer (nullable = true)\n",
      " |-- Departure Delay in Minutes: integer (nullable = true)\n",
      " |-- Arrival Delay in Minutes: integer (nullable = true)\n",
      "\n"
     ]
    }
   ],
   "source": [
    "# List of all our columns\n",
    "df.printSchema()"
   ]
  },
  {
   "cell_type": "code",
   "execution_count": 4,
   "id": "339ef076-694d-4a1d-8df1-c554ef13c751",
   "metadata": {},
   "outputs": [
    {
     "name": "stdout",
     "output_type": "stream",
     "text": [
      "+-------+------------+------+-----------------+------------------+--------------------------+------------------------+\n",
      "|summary|satisfaction|Gender|    Customer Type|               Age|Departure Delay in Minutes|Arrival Delay in Minutes|\n",
      "+-------+------------+------+-----------------+------------------+--------------------------+------------------------+\n",
      "|  count|      129880|129880|           129880|            129880|                    129880|                  129487|\n",
      "|   mean|        null|  null|             null| 39.42795657530028|        14.713712657838004|       15.09112883918849|\n",
      "| stddev|        null|  null|             null|15.119359950371694|         38.07112621503648|       38.46565024011906|\n",
      "|    min|dissatisfied|Female|   Loyal Customer|                 7|                         0|                       0|\n",
      "|    max|   satisfied|  Male|disloyal Customer|                85|                      1592|                    1584|\n",
      "+-------+------------+------+-----------------+------------------+--------------------------+------------------------+\n",
      "\n"
     ]
    }
   ],
   "source": [
    "df.select('satisfaction',\n",
    " 'Gender',\n",
    " 'Customer Type',\n",
    " 'Age',\n",
    " 'Departure Delay in Minutes',\n",
    " 'Arrival Delay in Minutes').describe().show()"
   ]
  },
  {
   "cell_type": "markdown",
   "id": "6de9800d-7c02-4d19-8953-39bbc68e2746",
   "metadata": {},
   "source": [
    "# Splitting in columns in different types"
   ]
  },
  {
   "cell_type": "code",
   "execution_count": 5,
   "id": "2de71241-245c-4009-8ce9-ef5efd3bc05e",
   "metadata": {},
   "outputs": [
    {
     "data": {
      "text/plain": [
       "[('satisfaction', 'string'),\n",
       " ('Gender', 'string'),\n",
       " ('Customer Type', 'string'),\n",
       " ('Age', 'int'),\n",
       " ('Type of Travel', 'string'),\n",
       " ('Class', 'string'),\n",
       " ('Flight Distance', 'int'),\n",
       " ('Seat comfort', 'int'),\n",
       " ('Departure/Arrival time convenient', 'int'),\n",
       " ('Food and drink', 'int'),\n",
       " ('Gate location', 'int'),\n",
       " ('Inflight wifi service', 'int'),\n",
       " ('Inflight entertainment', 'int'),\n",
       " ('Online support', 'int'),\n",
       " ('Ease of Online booking', 'int'),\n",
       " ('On-board service', 'int'),\n",
       " ('Leg room service', 'int'),\n",
       " ('Baggage handling', 'int'),\n",
       " ('Checkin service', 'int'),\n",
       " ('Cleanliness', 'int'),\n",
       " ('Online boarding', 'int'),\n",
       " ('Departure Delay in Minutes', 'int'),\n",
       " ('Arrival Delay in Minutes', 'int')]"
      ]
     },
     "execution_count": 5,
     "metadata": {},
     "output_type": "execute_result"
    }
   ],
   "source": [
    "df.dtypes"
   ]
  },
  {
   "cell_type": "code",
   "execution_count": 6,
   "id": "68d84a4a-d2b0-4790-84cf-2886e33c3ff3",
   "metadata": {},
   "outputs": [],
   "source": [
    "categorical_features = []\n",
    "numerical_features = []\n",
    "\n",
    "for x in df.dtypes:\n",
    "    if x[1] == \"string\":\n",
    "        categorical_features.append(x)\n",
    "    if x[1] == \"int\":\n",
    "        \n",
    "        if df.agg({x[0]:\"max\"}).collect()[0][0] <= 5:\n",
    "            categorical_features.append(x)\n",
    "        else:\n",
    "            numerical_features.append(x)\n",
    "            \n",
    "        "
   ]
  },
  {
   "cell_type": "markdown",
   "id": "05ec931b-ffb1-4223-a9ab-7f323f574125",
   "metadata": {},
   "source": [
    "# checking for null values"
   ]
  },
  {
   "cell_type": "code",
   "execution_count": 7,
   "id": "e981117a-518b-436e-9d50-c94dba9757f9",
   "metadata": {
    "pycharm": {
     "name": "#%%\n"
    }
   },
   "outputs": [
    {
     "name": "stdout",
     "output_type": "stream",
     "text": [
      "+------------+------+-------------+---+--------------+-----+---------------+------------+---------------------------------+--------------+-------------+---------------------+----------------------+--------------+----------------------+----------------+----------------+----------------+---------------+-----------+---------------+--------------------------+------------------------+\n",
      "|satisfaction|Gender|Customer Type|Age|Type of Travel|Class|Flight Distance|Seat comfort|Departure/Arrival time convenient|Food and drink|Gate location|Inflight wifi service|Inflight entertainment|Online support|Ease of Online booking|On-board service|Leg room service|Baggage handling|Checkin service|Cleanliness|Online boarding|Departure Delay in Minutes|Arrival Delay in Minutes|\n",
      "+------------+------+-------------+---+--------------+-----+---------------+------------+---------------------------------+--------------+-------------+---------------------+----------------------+--------------+----------------------+----------------+----------------+----------------+---------------+-----------+---------------+--------------------------+------------------------+\n",
      "|           0|     0|            0|  0|             0|    0|              0|           0|                                0|             0|            0|                    0|                     0|             0|                     0|               0|               0|               0|              0|          0|              0|                         0|                     393|\n",
      "+------------+------+-------------+---+--------------+-----+---------------+------------+---------------------------------+--------------+-------------+---------------------+----------------------+--------------+----------------------+----------------+----------------+----------------+---------------+-----------+---------------+--------------------------+------------------------+\n",
      "\n"
     ]
    }
   ],
   "source": [
    "from pyspark.sql.functions import col,isnan, when, count\n",
    "\n",
    "df.select([count(when(isnan(c) | col(c).isNull(), c)).alias(c) for c in df.columns]).show()\n",
    "\n"
   ]
  },
  {
   "cell_type": "markdown",
   "id": "162b4adc-912a-4df8-8470-9782a59160a7",
   "metadata": {},
   "source": [
    "## Only column \"Arrival Delay in Minutes\" has null values"
   ]
  },
  {
   "cell_type": "code",
   "execution_count": 8,
   "id": "4cd9d280-daa2-4ffb-b024-59348bb3b4d5",
   "metadata": {
    "pycharm": {
     "name": "#%%\n"
    }
   },
   "outputs": [
    {
     "name": "stdout",
     "output_type": "stream",
     "text": [
      "root\n",
      " |-- satisfaction: string (nullable = true)\n",
      " |-- Gender: string (nullable = true)\n",
      " |-- Customer Type: string (nullable = true)\n",
      " |-- Age: integer (nullable = true)\n",
      " |-- Type of Travel: string (nullable = true)\n",
      " |-- Class: string (nullable = true)\n",
      " |-- Flight Distance: integer (nullable = true)\n",
      " |-- Seat comfort: integer (nullable = true)\n",
      " |-- Departure/Arrival time convenient: integer (nullable = true)\n",
      " |-- Food and drink: integer (nullable = true)\n",
      " |-- Gate location: integer (nullable = true)\n",
      " |-- Inflight wifi service: integer (nullable = true)\n",
      " |-- Inflight entertainment: integer (nullable = true)\n",
      " |-- Online support: integer (nullable = true)\n",
      " |-- Ease of Online booking: integer (nullable = true)\n",
      " |-- On-board service: integer (nullable = true)\n",
      " |-- Leg room service: integer (nullable = true)\n",
      " |-- Baggage handling: integer (nullable = true)\n",
      " |-- Checkin service: integer (nullable = true)\n",
      " |-- Cleanliness: integer (nullable = true)\n",
      " |-- Online boarding: integer (nullable = true)\n",
      " |-- Departure Delay in Minutes: integer (nullable = true)\n",
      " |-- Arrival Delay in Minutes: integer (nullable = true)\n",
      "\n"
     ]
    }
   ],
   "source": [
    "df.printSchema()\n",
    "# satisfaction,Gender,Customer Type"
   ]
  },
  {
   "cell_type": "markdown",
   "id": "240e89f6-2062-4aba-94ab-dea2693b9891",
   "metadata": {},
   "source": [
    "## Imputing null values"
   ]
  },
  {
   "cell_type": "code",
   "execution_count": 9,
   "id": "0096a157-ead4-4213-b453-ae880824ad16",
   "metadata": {
    "pycharm": {
     "name": "#%%\n"
    }
   },
   "outputs": [],
   "source": [
    "from pyspark.ml.feature import Imputer\n",
    "\n",
    "imputer = Imputer(inputCol='Arrival Delay in Minutes',\n",
    "                 outputCol='ADMI',\n",
    "                ).setStrategy(\"median\")\n",
    "\n",
    "df = imputer.fit(df).transform(df)"
   ]
  },
  {
   "cell_type": "markdown",
   "id": "06d5eda3-fa4a-4bcc-b7f7-d5119b087eb2",
   "metadata": {},
   "source": [
    "# Plots"
   ]
  },
  {
   "cell_type": "markdown",
   "id": "6b2552da-83e1-4980-a4ef-f42f92ff048d",
   "metadata": {},
   "source": [
    "## Gender"
   ]
  },
  {
   "cell_type": "code",
   "execution_count": 10,
   "id": "5eb21648-bfa4-4e39-a7e6-d20e742e72cc",
   "metadata": {},
   "outputs": [],
   "source": [
    "df_men = df[df[\"Gender\"]==\"Male\"]\n",
    "df_women = df[df[\"Gender\"]==\"Female\"]"
   ]
  },
  {
   "cell_type": "code",
   "execution_count": 11,
   "id": "be4d6fdc-720d-402a-a7f4-412035507e60",
   "metadata": {},
   "outputs": [
    {
     "name": "stderr",
     "output_type": "stream",
     "text": [
      "/opt/conda/lib/python3.10/site-packages/seaborn/_decorators.py:36: FutureWarning: Pass the following variables as keyword args: x, y. From version 0.12, the only valid positional argument will be `data`, and passing other arguments without an explicit keyword will result in an error or misinterpretation.\n",
      "  warnings.warn(\n",
      "/opt/conda/lib/python3.10/site-packages/seaborn/_decorators.py:36: FutureWarning: Pass the following variables as keyword args: x, y. From version 0.12, the only valid positional argument will be `data`, and passing other arguments without an explicit keyword will result in an error or misinterpretation.\n",
      "  warnings.warn(\n"
     ]
    },
    {
     "data": {
      "text/plain": [
       "Text(0.5, 1.0, 'Satisfaction of men')"
      ]
     },
     "execution_count": 11,
     "metadata": {},
     "output_type": "execute_result"
    },
    {
     "data": {
      "image/png": "[encoded data removed]",
      "text/plain": [
       "<Figure size 720x360 with 2 Axes>"
      ]
     },
     "metadata": {
      "needs_background": "light"
     },
     "output_type": "display_data"
    }
   ],
   "source": [
    "fig,ax = plt.subplots(1,2,figsize=(10,5))\n",
    "\n",
    "df_men_satisfaction = df_men.groupby(\"satisfaction\").count()\n",
    "count_v = [ x[0] for x in df_men_satisfaction.select(\"count\").collect()]\n",
    "satisfaction_v = [ x[0] for x in df_men_satisfaction.select(\"satisfaction\").collect()]\n",
    "\n",
    "ax[0] = sns.barplot(satisfaction_v,count_v,ax=ax[0])\n",
    "ax[0].set_title(\"Satisfaction of men\")\n",
    "\n",
    "\n",
    "df_women_satisfaction = df_women.groupby(\"satisfaction\").count()\n",
    "count_v = [ x[0] for x in df_women_satisfaction.select(\"count\").collect()]\n",
    "satisfaction_v = [ x[0] for x in df_women_satisfaction.select(\"satisfaction\").collect()]\n",
    "\n",
    "ax[1] = sns.barplot(satisfaction_v,count_v,ax=ax[1])\n",
    "ax[1].set_title(\"Satisfaction of men\")"
   ]
  },
  {
   "cell_type": "markdown",
   "id": "bfedb162-16c5-48ae-bd07-d6eee9e5db28",
   "metadata": {},
   "source": [
    "From these bar plots we can conclude that in general men tend to complain more about (not satisfied) the flight,\n",
    "this can be a feature to use in our model as it show that there is a relation between satisfaction and gender but it need further esploration"
   ]
  },
  {
   "cell_type": "markdown",
   "id": "b7cd4d57-f6d0-43cc-85eb-167011f57667",
   "metadata": {},
   "source": [
    "## Age"
   ]
  },
  {
   "cell_type": "code",
   "execution_count": 12,
   "id": "31b0b0e8-4c9e-4f22-ab2e-c82d74ecedb1",
   "metadata": {},
   "outputs": [],
   "source": [
    "df_age = df.select(\"satisfaction\",\"Age\")\n",
    "\n",
    "df_age_satisfaction=df_age.filter(df_age[\"satisfaction\"] == \"satisfied\")\n",
    "df_age_dissatisfaction=df_age.filter(df_age[\"satisfaction\"] == \"dissatisfied\")\n",
    "\n"
   ]
  },
  {
   "cell_type": "code",
   "execution_count": 13,
   "id": "0cd2c460-9eb5-4ab4-b093-e5c457c4479f",
   "metadata": {},
   "outputs": [
    {
     "name": "stderr",
     "output_type": "stream",
     "text": [
      "/opt/conda/lib/python3.10/site-packages/seaborn/_decorators.py:36: FutureWarning: Pass the following variables as keyword args: x, y. From version 0.12, the only valid positional argument will be `data`, and passing other arguments without an explicit keyword will result in an error or misinterpretation.\n",
      "  warnings.warn(\n"
     ]
    },
    {
     "data": {
      "image/png": "[encoded data removed]",
      "text/plain": [
       "<Figure size 1058.4x360 with 1 Axes>"
      ]
     },
     "metadata": {},
     "output_type": "display_data"
    }
   ],
   "source": [
    "sns.set(rc={'figure.figsize':(14.7,5)})\n",
    "\n",
    "df_age_satisfaction = df_age_satisfaction.groupby(\"Age\").count()\n",
    "age_v = [ x[0] for x in df_age_satisfaction.select(\"Age\").collect()]\n",
    "satisfaction_v = [ x[0] for x in df_age_satisfaction.select(\"count\").collect()]\n",
    "ax = sns.barplot(age_v,satisfaction_v)\n",
    "ax.set_title(\"Satisfaction with respect to age\")\n",
    "x=ax.set_xticklabels(ax.get_xticklabels(),rotation = 70)"
   ]
  },
  {
   "cell_type": "code",
   "execution_count": 14,
   "id": "2cf201d3-69b7-4f03-81b0-3a518b111e03",
   "metadata": {},
   "outputs": [
    {
     "name": "stderr",
     "output_type": "stream",
     "text": [
      "/opt/conda/lib/python3.10/site-packages/seaborn/_decorators.py:36: FutureWarning: Pass the following variables as keyword args: x, y. From version 0.12, the only valid positional argument will be `data`, and passing other arguments without an explicit keyword will result in an error or misinterpretation.\n",
      "  warnings.warn(\n"
     ]
    },
    {
     "data": {
      "image/png": "[encoded data removed]",
      "text/plain": [
       "<Figure size 1058.4x360 with 1 Axes>"
      ]
     },
     "metadata": {},
     "output_type": "display_data"
    }
   ],
   "source": [
    "sns.set(rc={'figure.figsize':(14.7,5)})\n",
    "\n",
    "df_age_dissatisfaction = df_age_dissatisfaction.groupby(\"Age\").count()\n",
    "age_v = [ x[0] for x in df_age_dissatisfaction.select(\"Age\").collect()]\n",
    "satisfaction_v = [ x[0] for x in df_age_dissatisfaction.select(\"count\").collect()]\n",
    "ax = sns.barplot(age_v,satisfaction_v)\n",
    "ax.set_title(\"Dissatisfaction with respect to age\")\n",
    "x=ax.set_xticklabels(ax.get_xticklabels(),rotation = 70)"
   ]
  },
  {
   "cell_type": "markdown",
   "id": "4da41f76-5085-42e2-a40f-2ca4707ca27c",
   "metadata": {
    "tags": []
   },
   "source": [
    "## Class"
   ]
  },
  {
   "cell_type": "code",
   "execution_count": 15,
   "id": "6c38e449-2344-4af1-8cd2-a98242286a19",
   "metadata": {
    "pycharm": {
     "name": "#%%\n"
    }
   },
   "outputs": [
    {
     "name": "stderr",
     "output_type": "stream",
     "text": [
      "/opt/conda/lib/python3.10/site-packages/seaborn/_decorators.py:36: FutureWarning: Pass the following variables as keyword args: x, y. From version 0.12, the only valid positional argument will be `data`, and passing other arguments without an explicit keyword will result in an error or misinterpretation.\n",
      "  warnings.warn(\n"
     ]
    },
    {
     "data": {
      "image/png": "[encoded data removed]",
      "text/plain": [
       "<Figure size 1058.4x360 with 1 Axes>"
      ]
     },
     "metadata": {},
     "output_type": "display_data"
    }
   ],
   "source": [
    "df_class = df.select(\"satisfaction\",\"Class\")\n",
    "df_class_satisfied=df_class.filter(df_class[\"satisfaction\"] == \"satisfied\")\n",
    "df_class_dissatisfied=df_class.filter(df_class[\"satisfaction\"] == \"dissatisfied\")\n",
    "\n",
    "df_class_satisfied = df_class_satisfied.groupby(\"Class\").count()\n",
    "class_v = [ x[0] for x in df_class_satisfied.select(\"Class\").collect()]\n",
    "satisfaction_v = [ x[0] for x in df_class_satisfied.select(\"count\").collect()]\n",
    "ax = sns.barplot(class_v,satisfaction_v)\n",
    "ax.set_title(\"Satisfaction with respect to class\")\n",
    "x=ax.set_xticklabels(ax.get_xticklabels(),rotation = 70)"
   ]
  },
  {
   "cell_type": "code",
   "execution_count": 16,
   "id": "5b64f401-3d12-4173-b088-a3739f778a43",
   "metadata": {},
   "outputs": [
    {
     "name": "stderr",
     "output_type": "stream",
     "text": [
      "/opt/conda/lib/python3.10/site-packages/seaborn/_decorators.py:36: FutureWarning: Pass the following variables as keyword args: x, y. From version 0.12, the only valid positional argument will be `data`, and passing other arguments without an explicit keyword will result in an error or misinterpretation.\n",
      "  warnings.warn(\n"
     ]
    },
    {
     "data": {
      "image/png": "[encoded data removed]",
      "text/plain": [
       "<Figure size 1058.4x360 with 1 Axes>"
      ]
     },
     "metadata": {},
     "output_type": "display_data"
    }
   ],
   "source": [
    "df_class_dissatisfied = df_class_dissatisfied.groupby(\"Class\").count()\n",
    "class_v = [ x[0] for x in df_class_dissatisfied.select(\"Class\").collect()]\n",
    "satisfaction_v = [ x[0] for x in df_class_dissatisfied.select(\"count\").collect()]\n",
    "ax = sns.barplot(class_v,satisfaction_v)\n",
    "ax.set_title(\"Disatisfaction with respect to class\")\n",
    "x=ax.set_xticklabels(ax.get_xticklabels(),rotation = 70)"
   ]
  },
  {
   "cell_type": "markdown",
   "id": "9c193b6c-042b-4f03-bc96-c2f2f1c21536",
   "metadata": {},
   "source": [
    "The people most satisfied are obviously the people in business class and dissatisfied, are the people in economy"
   ]
  },
  {
   "cell_type": "markdown",
   "id": "a4516e5c-47c7-4502-82ab-cc4f78c920f7",
   "metadata": {},
   "source": [
    "## Flight Distance and Departure delay"
   ]
  },
  {
   "cell_type": "code",
   "execution_count": 17,
   "id": "84ed5b6a-f285-4623-b3fc-c2a985d6500a",
   "metadata": {},
   "outputs": [
    {
     "data": {
      "text/plain": [
       "<matplotlib.collections.PathCollection at 0x7fae043c1c60>"
      ]
     },
     "execution_count": 17,
     "metadata": {},
     "output_type": "execute_result"
    },
    {
     "data": {
      "image/png": "[encoded data removed]",
      "text/plain": [
       "<Figure size 1058.4x360 with 1 Axes>"
      ]
     },
     "metadata": {},
     "output_type": "display_data"
    }
   ],
   "source": [
    "\n",
    "df_dst=df.select(\"satisfaction\",\"Flight Distance\")\n",
    "dst_v = [ x[0] for x in df_dst.select(\"Flight Distance\").collect()]\n",
    "satisfaction_v = [ x[0] for x in df_dst.select(\"satisfaction\").collect()]\n",
    "plt.scatter(satisfaction_v,dst_v)"
   ]
  },
  {
   "cell_type": "code",
   "execution_count": 18,
   "id": "2f98c772-ed48-40f4-b817-e2cc672a5fcf",
   "metadata": {},
   "outputs": [
    {
     "data": {
      "text/plain": [
       "<matplotlib.collections.PathCollection at 0x7fae04476f50>"
      ]
     },
     "execution_count": 18,
     "metadata": {},
     "output_type": "execute_result"
    },
    {
     "data": {
      "image/png": "[encoded data removed]",
      "text/plain": [
       "<Figure size 1058.4x360 with 1 Axes>"
      ]
     },
     "metadata": {},
     "output_type": "display_data"
    }
   ],
   "source": [
    "df_dly=df.select(\"satisfaction\",\"Departure Delay in Minutes\")\n",
    "dly_v = [ x[0] for x in df_dly.select(\"Departure Delay in Minutes\").collect()]\n",
    "satisfaction_v = [ x[0] for x in df_dly.select(\"satisfaction\").collect()]\n",
    "plt.scatter(satisfaction_v,dly_v)"
   ]
  },
  {
   "cell_type": "code",
   "execution_count": 19,
   "id": "060c8f32-fb59-48bf-b1a3-fdefc6270b59",
   "metadata": {},
   "outputs": [
    {
     "data": {
      "text/plain": [
       "<matplotlib.collections.PathCollection at 0x7fae045c3160>"
      ]
     },
     "execution_count": 19,
     "metadata": {},
     "output_type": "execute_result"
    },
    {
     "data": {
      "image/png": "[encoded data removed]",
      "text/plain": [
       "<Figure size 1058.4x360 with 1 Axes>"
      ]
     },
     "metadata": {},
     "output_type": "display_data"
    }
   ],
   "source": [
    "df_dly=df.select(\"satisfaction\",\"Arrival Delay in Minutes\")\n",
    "dly_v = [ x[0] for x in df_dly.select(\"Arrival Delay in Minutes\").collect()]\n",
    "satisfaction_v = [ x[0] for x in df_dly.select(\"satisfaction\").collect()]\n",
    "plt.scatter(satisfaction_v,dly_v)"
   ]
  },
  {
   "cell_type": "markdown",
   "id": "dd6d850e-b3e2-4387-ba3c-4f7200326f65",
   "metadata": {},
   "source": [
    "From these 3 plots, we can deduce that there is a relation between the satisfaction and the delay of a flight\n",
    "\n",
    "But no relation between the flight distance and the satisfaction, we can safely remove this feature if needed\n",
    "\n",
    "A relation exists as well between Departure and Arrival delay, but because Arrilval delay had missing the best solution will be to select departure delay"
   ]
  },
  {
   "cell_type": "markdown",
   "id": "0e635972-e685-41ff-8e9f-e66e1c21efe3",
   "metadata": {},
   "source": [
    "# Preprocessing, Piepline and Modeling"
   ]
  },
  {
   "cell_type": "markdown",
   "id": "95e7b0c4-9d7f-49ea-883a-a8d31d92e616",
   "metadata": {
    "pycharm": {
     "name": "#%% md\n"
    }
   },
   "source": [
    "## split test_train"
   ]
  },
  {
   "cell_type": "code",
   "execution_count": 20,
   "id": "20a3cf79-5762-46fc-b394-3c6bf19560df",
   "metadata": {
    "pycharm": {
     "name": "#%%\n"
    }
   },
   "outputs": [],
   "source": [
    "train, test = df.randomSplit([0.77, 0.33])"
   ]
  },
  {
   "cell_type": "markdown",
   "id": "861811cb-4a48-4702-96be-72c8683df750",
   "metadata": {},
   "source": [
    "## Pipeline"
   ]
  },
  {
   "cell_type": "code",
   "execution_count": 21,
   "id": "134572d4-3bd5-4dde-9327-61d1650db579",
   "metadata": {
    "pycharm": {
     "name": "#%%\n"
    }
   },
   "outputs": [],
   "source": [
    "categorical_features = ['satisfaction',\n",
    " 'Gender',\n",
    " 'Customer Type',\n",
    " 'Type of Travel',\n",
    " 'Class',\n",
    " 'Seat comfort',\n",
    " 'Departure/Arrival time convenient',\n",
    " 'Food and drink',\n",
    " 'Gate location',\n",
    " 'Inflight wifi service',\n",
    " 'Inflight entertainment',\n",
    " 'Online support',\n",
    " 'Ease of Online booking',\n",
    " 'On-board service',\n",
    " 'Leg room service',\n",
    " 'Baggage handling',\n",
    " 'Checkin service',\n",
    " 'Cleanliness',\n",
    " 'Online boarding']\n",
    "\n",
    "continues_features = ['Age',\n",
    " 'Flight Distance',\n",
    " 'Departure Delay in Minutes',\n",
    " 'ADMI']\n",
    "\n",
    "\n",
    "pipeline_list=[]\n",
    "featuress = []\n",
    "\n",
    "# StringIndexer to convert string values into numerical\n",
    "[pipeline_list.append(StringIndexer(inputCol=c, outputCol= c+'_indexed')) for c in categorical_features]\n",
    "[featuress.append(c+'_indexed') for c in categorical_features]\n",
    "\n",
    "\n",
    "# Feature Scaling\n",
    "assembler = VectorAssembler(inputCols=continues_features, outputCol='continuous_features')\n",
    "pipeline_list.append(assembler)\n",
    "\n",
    "minmaxscalar = MinMaxScaler(inputCol='continuous_features', outputCol='continuous_features_scaled')\n",
    "pipeline_list.append(minmaxscalar)\n",
    "featuress.append('continuous_features_scaled')\n",
    "\n",
    "assembler_final = VectorAssembler(inputCols=['satisfaction_indexed', 'Gender_indexed', 'Customer Type_indexed', 'Type of Travel_indexed', 'Class_indexed', 'Seat comfort_indexed', 'Departure/Arrival time convenient_indexed', 'Food and drink_indexed', 'Gate location_indexed', 'Inflight wifi service_indexed', 'Inflight entertainment_indexed', 'Online support_indexed', 'Ease of Online booking_indexed', 'On-board service_indexed', 'Leg room service_indexed', 'Baggage handling_indexed', 'Checkin service_indexed', 'Cleanliness_indexed', 'Online boarding_indexed', 'continuous_features_scaled'],\n",
    "                                  outputCol='features')\n",
    "pipeline_list.append(assembler_final)\n",
    "\n",
    "\n",
    "label_encoder = StringIndexer(inputCol='satisfaction', outputCol= 'satisfaction_encoded')\n",
    "pipeline_list.append(label_encoder)\n",
    "featuress.append('satisfaction_encoded')\n",
    "\n",
    "# ml model\n",
    "model = LogisticRegression(featuresCol = 'features', labelCol = 'satisfaction_encoded', maxIter=5)\n",
    "pipeline_list.append(model)\n",
    "\n",
    "pipeline = Pipeline(stages=pipeline_list)\n",
    "\n",
    "pipeline_model = pipeline.fit(train)\n",
    "data_train = pipeline_model.transform(train)\n"
   ]
  },
  {
   "cell_type": "markdown",
   "id": "88a54d81-66d6-4f8e-8789-179a45a69713",
   "metadata": {},
   "source": [
    "## Prediction"
   ]
  },
  {
   "cell_type": "code",
   "execution_count": 22,
   "id": "781f4a34-a516-45de-97ae-7222eaadf31a",
   "metadata": {
    "pycharm": {
     "name": "#%%\n"
    }
   },
   "outputs": [
    {
     "data": {
      "text/plain": [
       "[Row(satisfaction='dissatisfied', Gender='Female', Customer Type='Loyal Customer', Age=7, Type of Travel='Personal Travel', Class='Eco', Flight Distance=1338, Seat comfort=4, Departure/Arrival time convenient=4, Food and drink=4, Gate location=4, Inflight wifi service=5, Inflight entertainment=4, Online support=5, Ease of Online booking=5, On-board service=4, Leg room service=2, Baggage handling=4, Checkin service=4, Cleanliness=5, Online boarding=5, Departure Delay in Minutes=0, Arrival Delay in Minutes=0, ADMI=0, satisfaction_indexed=1.0, Gender_indexed=0.0, Customer Type_indexed=0.0, Type of Travel_indexed=1.0, Class_indexed=1.0, Seat comfort_indexed=2.0, Departure/Arrival time convenient_indexed=0.0, Food and drink_indexed=1.0, Gate location_indexed=1.0, Inflight wifi service_indexed=1.0, Inflight entertainment_indexed=0.0, Online support_indexed=1.0, Ease of Online booking_indexed=1.0, On-board service_indexed=0.0, Leg room service_indexed=3.0, Baggage handling_indexed=0.0, Checkin service_indexed=0.0, Cleanliness_indexed=1.0, Online boarding_indexed=2.0, continuous_features=DenseVector([7.0, 1338.0, 0.0, 0.0]), continuous_features_scaled=SparseVector(4, {1: 0.1866}), features=SparseVector(23, {0: 1.0, 3: 1.0, 4: 1.0, 5: 2.0, 7: 1.0, 8: 1.0, 9: 1.0, 11: 1.0, 12: 1.0, 14: 3.0, 17: 1.0, 18: 2.0, 20: 0.1866}), satisfaction_encoded=1.0, rawPrediction=DenseVector([-2.8263, 2.8263]), probability=DenseVector([0.0559, 0.9441]), prediction=1.0)]"
      ]
     },
     "execution_count": 22,
     "metadata": {},
     "output_type": "execute_result"
    }
   ],
   "source": [
    "predictions = pipeline_model.transform(test)\n",
    "predictions.head(1)"
   ]
  },
  {
   "cell_type": "code",
   "execution_count": 23,
   "id": "47c045e2-37f9-429a-9a84-f00bd0f50384",
   "metadata": {
    "pycharm": {
     "name": "#%%\n"
    }
   },
   "outputs": [
    {
     "name": "stdout",
     "output_type": "stream",
     "text": [
      "root\n",
      " |-- satisfaction: string (nullable = true)\n",
      " |-- Gender: string (nullable = true)\n",
      " |-- Customer Type: string (nullable = true)\n",
      " |-- Age: integer (nullable = true)\n",
      " |-- Type of Travel: string (nullable = true)\n",
      " |-- Class: string (nullable = true)\n",
      " |-- Flight Distance: integer (nullable = true)\n",
      " |-- Seat comfort: integer (nullable = true)\n",
      " |-- Departure/Arrival time convenient: integer (nullable = true)\n",
      " |-- Food and drink: integer (nullable = true)\n",
      " |-- Gate location: integer (nullable = true)\n",
      " |-- Inflight wifi service: integer (nullable = true)\n",
      " |-- Inflight entertainment: integer (nullable = true)\n",
      " |-- Online support: integer (nullable = true)\n",
      " |-- Ease of Online booking: integer (nullable = true)\n",
      " |-- On-board service: integer (nullable = true)\n",
      " |-- Leg room service: integer (nullable = true)\n",
      " |-- Baggage handling: integer (nullable = true)\n",
      " |-- Checkin service: integer (nullable = true)\n",
      " |-- Cleanliness: integer (nullable = true)\n",
      " |-- Online boarding: integer (nullable = true)\n",
      " |-- Departure Delay in Minutes: integer (nullable = true)\n",
      " |-- Arrival Delay in Minutes: integer (nullable = true)\n",
      " |-- ADMI: integer (nullable = true)\n",
      " |-- satisfaction_indexed: double (nullable = false)\n",
      " |-- Gender_indexed: double (nullable = false)\n",
      " |-- Customer Type_indexed: double (nullable = false)\n",
      " |-- Type of Travel_indexed: double (nullable = false)\n",
      " |-- Class_indexed: double (nullable = false)\n",
      " |-- Seat comfort_indexed: double (nullable = false)\n",
      " |-- Departure/Arrival time convenient_indexed: double (nullable = false)\n",
      " |-- Food and drink_indexed: double (nullable = false)\n",
      " |-- Gate location_indexed: double (nullable = false)\n",
      " |-- Inflight wifi service_indexed: double (nullable = false)\n",
      " |-- Inflight entertainment_indexed: double (nullable = false)\n",
      " |-- Online support_indexed: double (nullable = false)\n",
      " |-- Ease of Online booking_indexed: double (nullable = false)\n",
      " |-- On-board service_indexed: double (nullable = false)\n",
      " |-- Leg room service_indexed: double (nullable = false)\n",
      " |-- Baggage handling_indexed: double (nullable = false)\n",
      " |-- Checkin service_indexed: double (nullable = false)\n",
      " |-- Cleanliness_indexed: double (nullable = false)\n",
      " |-- Online boarding_indexed: double (nullable = false)\n",
      " |-- continuous_features: vector (nullable = true)\n",
      " |-- continuous_features_scaled: vector (nullable = true)\n",
      " |-- features: vector (nullable = true)\n",
      " |-- satisfaction_encoded: double (nullable = false)\n",
      " |-- rawPrediction: vector (nullable = true)\n",
      " |-- probability: vector (nullable = true)\n",
      " |-- prediction: double (nullable = false)\n",
      "\n"
     ]
    }
   ],
   "source": [
    "predictions.printSchema()"
   ]
  },
  {
   "cell_type": "code",
   "execution_count": null,
   "id": "2d715c92-c968-44d8-8e55-3ac056715c3e",
   "metadata": {
    "pycharm": {
     "name": "#%%\n"
    }
   },
   "outputs": [],
   "source": []
  }
 ],
 "metadata": {
  "kernelspec": {
   "display_name": "Python 3 (ipykernel)",
   "language": "python",
   "name": "python3"
  },
  "language_info": {
   "codemirror_mode": {
    "name": "ipython",
    "version": 3
   },
   "file_extension": ".py",
   "mimetype": "text/x-python",
   "name": "python",
   "nbconvert_exporter": "python",
   "pygments_lexer": "ipython3",
   "version": "3.10.5"
  }
 },
 "nbformat": 4,
 "nbformat_minor": 5
}
